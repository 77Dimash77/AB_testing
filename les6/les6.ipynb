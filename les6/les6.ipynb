{
 "cells": [
  {
   "cell_type": "markdown",
   "metadata": {},
   "source": [
    "Продакт на главной mail.ru решил протестировать в рекомендательной ленте контента вместо карточек со статьями видеоплеер с короткими видео. Нынешний таймспент на юзера в день в среднем равен 25 минут, а стандартная ошибка (SD) равна 156. Мы предполагаем, что в новой версии таймспент на юзера в день изменится на 10%. Средний трафик 20000 человек в день. Посчитайте сколько дней необходимо держать эксперимент при alpha = 5% и beta = 20% ."
   ]
  },
  {
   "cell_type": "code",
   "execution_count": 1,
   "metadata": {},
   "outputs": [
    {
     "name": "stdout",
     "output_type": "stream",
     "text": [
      "Рассчитанный размер выборки: 6095.30\n"
     ]
    }
   ],
   "source": [
    "import math\n",
    "\n",
    "from scipy import stats\n",
    "\n",
    "# Исходные параметры\n",
    "mean_old = 25\n",
    "sd_old = 156\n",
    "expected_increase = 0.1\n",
    "\n",
    "# Рассчитываем новые параметры\n",
    "mean_new = mean_old * (1 + expected_increase)\n",
    "sd_new = sd_old * (1 + expected_increase)\n",
    "\n",
    "# Размер выборки\n",
    "N = 20000\n",
    "\n",
    "# Рассчитываем стандартное отклонение для двух выборок\n",
    "sd_combined = math.sqrt((sd_old**2 / N) + (sd_new**2 / N))\n",
    "\n",
    "# Рассчитываем Z-значение\n",
    "z_value = (mean_old - mean_new) / sd_combined\n",
    "\n",
    "# Задаем уровень значимости\n",
    "alpha = 0.05\n",
    "\n",
    "# Рассчитываем Z-критическое значение для двустороннего теста\n",
    "z_critical = abs(z_value) > abs(stats.norm.ppf(alpha/2))\n",
    "\n",
    "# Рассчитываем мощность теста\n",
    "beta = 0.20\n",
    "z_power = stats.norm.ppf(1 - beta)\n",
    "\n",
    "# Рассчитываем необходимый размер выборки для достижения нужной мощности\n",
    "required_sample_size = (sd_old**2 + sd_new**2) * (z_power + z_critical)**2 / (mean_old - mean_new)**2\n",
    "\n",
    "print(f\"Рассчитанный размер выборки: {required_sample_size:.2f}\")\n"
   ]
  },
  {
   "cell_type": "markdown",
   "metadata": {},
   "source": [
    "Наша продуктовая команда в ecommerce магазине планирует запустить тест, направленный на ускорение загрузки сайта. Одна из основных метрик bounce rate в GA = 40%. Мы предполагаем, что при оптимизации сайта она изменится минимум на 20%.Средний трафик 4000 человек в день. Посчитайте сколько нам нужно дней держать эксперимент при alpha = 5% и beta = 20%"
   ]
  },
  {
   "cell_type": "code",
   "execution_count": 2,
   "metadata": {},
   "outputs": [
    {
     "name": "stdout",
     "output_type": "stream",
     "text": [
      "Рассчитанное количество дней: 0.14\n"
     ]
    }
   ],
   "source": [
    "import math\n",
    "\n",
    "# Исходные параметры\n",
    "p1 = 0.4  # Оригинальная конверсия (bounce rate в GA)\n",
    "p2 = 0.4 * 0.8  # Ожидаемая конверсия после изменений (уменьшение на 20%)\n",
    "\n",
    "alpha = 0.05  # Уровень значимости\n",
    "beta = 0.20  # Мощность\n",
    "\n",
    "# Z-значение для уровня значимости alpha/2 (двусторонний тест)\n",
    "z_alpha_2 = abs(stats.norm.ppf(alpha/2))\n",
    "\n",
    "# Z-значение для мощности beta\n",
    "z_beta = stats.norm.ppf(1 - beta)\n",
    "\n",
    "# Рассчитываем размер выборки для каждой группы\n",
    "n = ((z_alpha_2 + z_beta)**2 * (p1 * (1 - p1) + p2 * (1 - p2))) / ((p1 - p2)**2)\n",
    "\n",
    "# Рассчитываем количество дней для эксперимента при среднем трафике 4000 человек в день\n",
    "traffic_per_day = 4000\n",
    "days_required = n / traffic_per_day\n",
    "\n",
    "print(f\"Рассчитанное количество дней: {days_required:.2f}\")\n"
   ]
  }
 ],
 "metadata": {
  "kernelspec": {
   "display_name": "Python 3",
   "language": "python",
   "name": "python3"
  },
  "language_info": {
   "codemirror_mode": {
    "name": "ipython",
    "version": 3
   },
   "file_extension": ".py",
   "mimetype": "text/x-python",
   "name": "python",
   "nbconvert_exporter": "python",
   "pygments_lexer": "ipython3",
   "version": "3.10.11"
  }
 },
 "nbformat": 4,
 "nbformat_minor": 2
}
