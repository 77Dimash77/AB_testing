{
 "cells": [
  {
   "cell_type": "code",
   "execution_count": 2,
   "metadata": {},
   "outputs": [
    {
     "name": "stdout",
     "output_type": "stream",
     "text": [
      "               count      mean       std  min  25%  50%  75%     max\n",
      "VARIANT_NAME                                                        \n",
      "control       4984.0  0.129013  3.007524  0.0  0.0  0.0  0.0  196.01\n",
      "variant       5016.0  0.070070  1.314802  0.0  0.0  0.0  0.0   58.63\n",
      "T-статистика: 1.268403803110966, p-значение: -0.5368076062219318\n"
     ]
    },
    {
     "name": "stderr",
     "output_type": "stream",
     "text": [
      "C:\\Users\\User\\AppData\\Local\\Packages\\PythonSoftwareFoundation.Python.3.10_qbz5n2kfra8p0\\LocalCache\\local-packages\\Python310\\site-packages\\openpyxl\\worksheet\\_reader.py:329: UserWarning: Unknown extension is not supported and will be removed\n",
      "  warn(msg)\n"
     ]
    }
   ],
   "source": [
    "import pandas as pd\n",
    "import numpy as np\n",
    "\n",
    "# Загрузка данных из Excel\n",
    "file_path = 'AB_Test_Results.xlsx'  # Укажите правильный путь к вашему файлу\n",
    "data = pd.read_excel(file_path)\n",
    "\n",
    "# Описательная статистика\n",
    "summary_stats = data.groupby('VARIANT_NAME')['REVENUE'].describe()\n",
    "print(summary_stats)\n",
    "\n",
    "# Статистический анализ \n",
    "control_group = data[data['VARIANT_NAME'] == 'control']['REVENUE']\n",
    "test_group = data[data['VARIANT_NAME'] == 'variant']['REVENUE']\n",
    "\n",
    "# Расчет средних значений\n",
    "mean_control = np.mean(control_group)\n",
    "mean_test = np.mean(test_group)\n",
    "\n",
    "# Расчет стандартных отклонений\n",
    "std_control = np.std(control_group, ddof=1)\n",
    "std_test = np.std(test_group, ddof=1)\n",
    "\n",
    "# Расчет t-статистики\n",
    "n_control = len(control_group)\n",
    "n_test = len(test_group)\n",
    "t_stat = (mean_control - mean_test) / np.sqrt((std_control**2/n_control) + (std_test**2/n_test))\n",
    "\n",
    "# Расчет степеней свободы\n",
    "degrees_of_freedom = n_control + n_test - 2\n",
    "\n",
    "# Расчет p-значения\n",
    "p_value = 2 * (1 - abs(t_stat))\n",
    "\n",
    "print(f'T-статистика: {t_stat}, p-значение: {p_value}')\n"
   ]
  }
 ],
 "metadata": {
  "kernelspec": {
   "display_name": "Python 3",
   "language": "python",
   "name": "python3"
  },
  "language_info": {
   "codemirror_mode": {
    "name": "ipython",
    "version": 3
   },
   "file_extension": ".py",
   "mimetype": "text/x-python",
   "name": "python",
   "nbconvert_exporter": "python",
   "pygments_lexer": "ipython3",
   "version": "3.10.11"
  }
 },
 "nbformat": 4,
 "nbformat_minor": 2
}
