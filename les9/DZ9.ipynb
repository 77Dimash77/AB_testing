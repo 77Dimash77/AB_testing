{
 "cells": [
  {
   "cell_type": "code",
   "execution_count": 3,
   "metadata": {},
   "outputs": [
    {
     "name": "stdout",
     "output_type": "stream",
     "text": [
      "Общее количество игроков: 90189\n",
      "Количество игроков в gate_30: 44700\n",
      "Количество игроков в gate_40: 45489\n",
      "Средний retention_1: 0.4452095044850259\n",
      "Средний retention_7: 0.1860648194347426\n"
     ]
    }
   ],
   "source": [
    "import pandas as pd\n",
    "\n",
    "# Загрузка данных из CSV файла\n",
    "file_path = 'cookie_cats.csv'  # Укажите правильный путь к вашему файлу\n",
    "data = pd.read_csv(file_path)\n",
    "\n",
    "# Преобразование формата столбцов\n",
    "data['retention_1'] = data['retention_1'].astype(int)\n",
    "data['retention_7'] = data['retention_7'].astype(int)\n",
    "\n",
    "# Сохранение отформатированных данных в Excel\n",
    "output_excel_path = 'formatted_cookie_cats.xlsx'\n",
    "data.to_excel(output_excel_path, index=False)\n",
    "\n",
    "# Анализ данных\n",
    "total_players = len(data)\n",
    "gate_30_players = len(data[data['version'] == 'gate_30'])\n",
    "gate_40_players = len(data[data['version'] == 'gate_40'])\n",
    "\n",
    "retention_1_rate = data['retention_1'].mean()\n",
    "retention_7_rate = data['retention_7'].mean()\n",
    "\n",
    "print(f\"Общее количество игроков: {total_players}\")\n",
    "print(f\"Количество игроков в gate_30: {gate_30_players}\")\n",
    "print(f\"Количество игроков в gate_40: {gate_40_players}\")\n",
    "print(f\"Средний retention_1: {retention_1_rate}\")\n",
    "print(f\"Средний retention_7: {retention_7_rate}\")\n"
   ]
  },
  {
   "cell_type": "code",
   "execution_count": 7,
   "metadata": {},
   "outputs": [
    {
     "name": "stdout",
     "output_type": "stream",
     "text": [
      "Z-статистика: 3.164028946774232\n",
      "P-value: 0.0\n"
     ]
    }
   ],
   "source": [
    "import pandas as pd\n",
    "import numpy as np\n",
    "import math\n",
    "\n",
    "# Загрузка данных из Excel файла\n",
    "file_path = 'formatted_cookie_cats.xlsx'  \n",
    "df = pd.read_excel(file_path)\n",
    "\n",
    "# Разделение данных на две группы\n",
    "group_1 = df[df['version'] == 'gate_30']\n",
    "group_2 = df[df['version'] == 'gate_40']\n",
    "\n",
    "# Подсчет среднего значения\n",
    "mean_1 = group_1['retention_7'].mean()\n",
    "mean_2 = group_2['retention_7'].mean()\n",
    "\n",
    "# Подсчет стандартного отклонения\n",
    "std_1 = group_1['retention_7'].std()\n",
    "std_2 = group_2['retention_7'].std()\n",
    "\n",
    "# Подсчет размера выборки\n",
    "n_1 = len(group_1)\n",
    "n_2 = len(group_2)\n",
    "\n",
    "# Подсчет стандартной ошибки разности средних\n",
    "se = math.sqrt((std_1**2 / n_1) + (std_2**2 / n_2))\n",
    "\n",
    "# Подсчет Z-статистики\n",
    "z_stat = (mean_1 - mean_2) / se\n",
    "\n",
    "# Подсчет p-value\n",
    "p_value = 2 * (1 - np.abs(np.around(np.random.normal(0, 1, 1000000), decimals=2)) > np.abs(z_stat)).mean()\n",
    "\n",
    "print(f\"Z-статистика: {z_stat}\")\n",
    "print(f\"P-value: {p_value}\")\n"
   ]
  }
 ],
 "metadata": {
  "kernelspec": {
   "display_name": "Python 3",
   "language": "python",
   "name": "python3"
  },
  "language_info": {
   "codemirror_mode": {
    "name": "ipython",
    "version": 3
   },
   "file_extension": ".py",
   "mimetype": "text/x-python",
   "name": "python",
   "nbconvert_exporter": "python",
   "pygments_lexer": "ipython3",
   "version": "3.10.11"
  }
 },
 "nbformat": 4,
 "nbformat_minor": 2
}
